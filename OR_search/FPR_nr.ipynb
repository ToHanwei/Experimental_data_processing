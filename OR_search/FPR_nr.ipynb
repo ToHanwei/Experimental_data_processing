{
 "cells": [
  {
   "cell_type": "code",
   "execution_count": 2,
   "metadata": {},
   "outputs": [],
   "source": [
    "import pandas as pd\n",
    "import numpy as np\n",
    "import matplotlib.pyplot as plt"
   ]
  },
  {
   "cell_type": "code",
   "execution_count": 3,
   "metadata": {},
   "outputs": [],
   "source": [
    "infile = \"FPR_search_from_nr.txt_paste\""
   ]
  },
  {
   "cell_type": "code",
   "execution_count": 4,
   "metadata": {},
   "outputs": [],
   "source": [
    "search = pd.read_csv(infile, sep='\\t')"
   ]
  },
  {
   "cell_type": "code",
   "execution_count": 5,
   "metadata": {},
   "outputs": [
    {
     "data": {
      "text/html": [
       "<div>\n",
       "<style scoped>\n",
       "    .dataframe tbody tr th:only-of-type {\n",
       "        vertical-align: middle;\n",
       "    }\n",
       "\n",
       "    .dataframe tbody tr th {\n",
       "        vertical-align: top;\n",
       "    }\n",
       "\n",
       "    .dataframe thead th {\n",
       "        text-align: right;\n",
       "    }\n",
       "</style>\n",
       "<table border=\"1\" class=\"dataframe\">\n",
       "  <thead>\n",
       "    <tr style=\"text-align: right;\">\n",
       "      <th></th>\n",
       "      <th>E-value</th>\n",
       "      <th>score</th>\n",
       "      <th>bias</th>\n",
       "      <th>E-value.1</th>\n",
       "      <th>score.1</th>\n",
       "      <th>bias.1</th>\n",
       "      <th>exp</th>\n",
       "      <th>N</th>\n",
       "      <th>Sequence</th>\n",
       "      <th>names</th>\n",
       "      <th>length</th>\n",
       "    </tr>\n",
       "  </thead>\n",
       "  <tbody>\n",
       "    <tr>\n",
       "      <td>0</td>\n",
       "      <td>1.400000e-229</td>\n",
       "      <td>774.2</td>\n",
       "      <td>34.7</td>\n",
       "      <td>2.200000e-120</td>\n",
       "      <td>415.0</td>\n",
       "      <td>12.0</td>\n",
       "      <td>2.5</td>\n",
       "      <td>2</td>\n",
       "      <td>ETE64565.1</td>\n",
       "      <td>ETE64565.1</td>\n",
       "      <td>879</td>\n",
       "    </tr>\n",
       "    <tr>\n",
       "      <td>1</td>\n",
       "      <td>8.100000e-211</td>\n",
       "      <td>712.5</td>\n",
       "      <td>63.7</td>\n",
       "      <td>1.300000e-86</td>\n",
       "      <td>304.0</td>\n",
       "      <td>21.5</td>\n",
       "      <td>3.0</td>\n",
       "      <td>3</td>\n",
       "      <td>EMP41304.1</td>\n",
       "      <td>EMP41304.1</td>\n",
       "      <td>773</td>\n",
       "    </tr>\n",
       "    <tr>\n",
       "      <td>2</td>\n",
       "      <td>9.600000e-202</td>\n",
       "      <td>682.6</td>\n",
       "      <td>32.1</td>\n",
       "      <td>3.500000e-117</td>\n",
       "      <td>404.5</td>\n",
       "      <td>14.0</td>\n",
       "      <td>2.0</td>\n",
       "      <td>2</td>\n",
       "      <td>XP_008284099.1</td>\n",
       "      <td>XP_008284099.1</td>\n",
       "      <td>649</td>\n",
       "    </tr>\n",
       "    <tr>\n",
       "      <td>3</td>\n",
       "      <td>1.900000e-187</td>\n",
       "      <td>635.6</td>\n",
       "      <td>54.1</td>\n",
       "      <td>4.500000e-94</td>\n",
       "      <td>328.5</td>\n",
       "      <td>26.0</td>\n",
       "      <td>2.0</td>\n",
       "      <td>2</td>\n",
       "      <td>TRY71314.1</td>\n",
       "      <td>TRY71314.1</td>\n",
       "      <td>681</td>\n",
       "    </tr>\n",
       "    <tr>\n",
       "      <td>4</td>\n",
       "      <td>1.000000e-176</td>\n",
       "      <td>600.3</td>\n",
       "      <td>54.7</td>\n",
       "      <td>1.000000e-99</td>\n",
       "      <td>347.1</td>\n",
       "      <td>30.2</td>\n",
       "      <td>3.0</td>\n",
       "      <td>3</td>\n",
       "      <td>KPP62370.1</td>\n",
       "      <td>KPP62370.1</td>\n",
       "      <td>637</td>\n",
       "    </tr>\n",
       "  </tbody>\n",
       "</table>\n",
       "</div>"
      ],
      "text/plain": [
       "         E-value  score  bias      E-value.1  score.1  bias.1  exp  N  \\\n",
       "0  1.400000e-229  774.2  34.7  2.200000e-120    415.0    12.0  2.5  2   \n",
       "1  8.100000e-211  712.5  63.7   1.300000e-86    304.0    21.5  3.0  3   \n",
       "2  9.600000e-202  682.6  32.1  3.500000e-117    404.5    14.0  2.0  2   \n",
       "3  1.900000e-187  635.6  54.1   4.500000e-94    328.5    26.0  2.0  2   \n",
       "4  1.000000e-176  600.3  54.7   1.000000e-99    347.1    30.2  3.0  3   \n",
       "\n",
       "         Sequence           names  length  \n",
       "0      ETE64565.1      ETE64565.1     879  \n",
       "1      EMP41304.1      EMP41304.1     773  \n",
       "2  XP_008284099.1  XP_008284099.1     649  \n",
       "3      TRY71314.1      TRY71314.1     681  \n",
       "4      KPP62370.1      KPP62370.1     637  "
      ]
     },
     "execution_count": 5,
     "metadata": {},
     "output_type": "execute_result"
    }
   ],
   "source": [
    "search.head(5)"
   ]
  },
  {
   "cell_type": "code",
   "execution_count": 6,
   "metadata": {},
   "outputs": [
    {
     "data": {
      "image/png": "[encoded data removed]",
      "text/plain": [
       "<Figure size 1152x432 with 2 Axes>"
      ]
     },
     "metadata": {
      "needs_background": "light"
     },
     "output_type": "display_data"
    }
   ],
   "source": [
    "fig = plt.figure(figsize=(16, 6))\n",
    "ax1 = plt.subplot(121)\n",
    "ax1.hist(search[np.logical_and(search['length']>=0, search['length']<=1500)]['length'], bins=150)\n",
    "ax1.set_title(\"Sequence length distribution\")\n",
    "ax1.set_xlabel(\"Sequences Length\")\n",
    "ax1.set_ylabel(\"# of Hits\")\n",
    "ax2 = plt.subplot(122)\n",
    "ax2.hist(search[np.logical_and(search['length']>=200, search['length']<=600)]['length'], bins=100)\n",
    "ax2.set_title(\"Sequence length distribution(short range)\")\n",
    "ax2.set_xlabel(\"Sequences Length\")\n",
    "ax2.set_ylabel(\"# of Hits\")\n",
    "plt.savefig(\"FPR_nr_Sequence_length_distribution.svg\", dpi=600, format='svg')\n",
    "plt.savefig(\"FPR_nr_Sequence_length_distribution.png\", dpi=600, format='png')\n",
    "plt.show()"
   ]
  },
  {
   "cell_type": "code",
   "execution_count": 7,
   "metadata": {},
   "outputs": [],
   "source": [
    "search_filter_length = search[np.logical_and(search['length']>=290, search['length']<=500)]"
   ]
  },
  {
   "cell_type": "code",
   "execution_count": 8,
   "metadata": {},
   "outputs": [],
   "source": [
    "def CountRange(df, name, num=200):\n",
    "    ser = df[name]\n",
    "    Range = np.logspace(-num, -1, num)\n",
    "    X, Y = [], []\n",
    "    for cut in Range:\n",
    "        X.append(cut)\n",
    "        Y.append(sum(ser <= cut))\n",
    "    return X, Y"
   ]
  },
  {
   "cell_type": "code",
   "execution_count": 9,
   "metadata": {},
   "outputs": [],
   "source": [
    "X, Y = CountRange(search, \"E-value\")\n",
    "X_length, Y_length = CountRange(search_filter_length, \"E-value\")"
   ]
  },
  {
   "cell_type": "code",
   "execution_count": 10,
   "metadata": {},
   "outputs": [
    {
     "data": {
      "image/png": "[encoded data removed]",
      "text/plain": [
       "<Figure size 432x288 with 1 Axes>"
      ]
     },
     "metadata": {
      "needs_background": "light"
     },
     "output_type": "display_data"
    }
   ],
   "source": [
    "plt.plot(X[50:150], Y[50:150])\n",
    "plt.xscale('log')\n",
    "plt.vlines(1e-65, 2000, 10000, colors='g', linestyles='dashed')\n",
    "plt.title(\"FPR search(nr)\")\n",
    "plt.text(1e-80, 11000, \"Evalue=1e-65\", size = 10, alpha = 0.6)\n",
    "plt.savefig(\"FPR_search_from_nr.svg\", format='svg')\n",
    "plt.savefig(\"FPR_search_from_nr.png\", dpi=600, format='png')\n",
    "plt.show()"
   ]
  },
  {
   "cell_type": "code",
   "execution_count": null,
   "metadata": {},
   "outputs": [],
   "source": []
  },
  {
   "cell_type": "code",
   "execution_count": 11,
   "metadata": {},
   "outputs": [
    {
     "data": {
      "image/png": "[encoded data removed]",
      "text/plain": [
       "<Figure size 432x288 with 1 Axes>"
      ]
     },
     "metadata": {
      "needs_background": "light"
     },
     "output_type": "display_data"
    }
   ],
   "source": [
    "plt.plot(X_length[50:150], Y_length[50:150])\n",
    "plt.xscale('log')\n",
    "plt.vlines(1e-65, 2000, 10000, colors='g', linestyles='dashed')\n",
    "plt.text(1e-80, 11000, \"Evalue=1e-65\", size = 10, alpha = 0.6)\n",
    "plt.title(\"FPR filter nr search(290, 500)\")\n",
    "plt.savefig(\"FPR_search_from_nr_lengthfilter_290-500.svg\", format='svg')\n",
    "plt.show()"
   ]
  },
  {
   "cell_type": "code",
   "execution_count": 12,
   "metadata": {},
   "outputs": [],
   "source": [
    "select_names = search_filter_length[search_filter_length['E-value']<= 1e-65]['Sequence'].values"
   ]
  },
  {
   "cell_type": "code",
   "execution_count": 13,
   "metadata": {},
   "outputs": [
    {
     "data": {
      "text/plain": [
       "4768"
      ]
     },
     "execution_count": 13,
     "metadata": {},
     "output_type": "execute_result"
    }
   ],
   "source": [
    "len(select_names)"
   ]
  },
  {
   "cell_type": "code",
   "execution_count": 14,
   "metadata": {},
   "outputs": [],
   "source": [
    "with open(\"FPR_search_from_nr_names_select_evalue-65_length290-500.txt\", 'w') as outf:\n",
    "    select_names = [line+'\\n' for line in select_names]\n",
    "    outf.writelines(select_names)"
   ]
  },
  {
   "cell_type": "code",
   "execution_count": 15,
   "metadata": {},
   "outputs": [],
   "source": [
    "select_evalue = search[search['E-value']<= 1e-65]['Sequence'].values"
   ]
  },
  {
   "cell_type": "code",
   "execution_count": 16,
   "metadata": {},
   "outputs": [],
   "source": [
    "with open(\"FPR_search_from_nr_names_select_evalue-65.txt\", 'w') as outf:\n",
    "    select_names = [line+'\\n' for line in select_evalue]\n",
    "    outf.writelines(select_names)"
   ]
  },
  {
   "cell_type": "code",
   "execution_count": null,
   "metadata": {},
   "outputs": [],
   "source": []
  }
 ],
 "metadata": {
  "kernelspec": {
   "display_name": "Python 3",
   "language": "python",
   "name": "python3"
  },
  "language_info": {
   "codemirror_mode": {
    "name": "ipython",
    "version": 3
   },
   "file_extension": ".py",
   "mimetype": "text/x-python",
   "name": "python",
   "nbconvert_exporter": "python",
   "pygments_lexer": "ipython3",
   "version": "3.6.7"
  }
 },
 "nbformat": 4,
 "nbformat_minor": 2
}
